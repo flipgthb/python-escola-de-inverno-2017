{
 "cells": [
  {
   "cell_type": "markdown",
   "metadata": {
    "run_control": {
     "frozen": false,
     "read_only": false
    }
   },
   "source": [
    "# Classes em Python"
   ]
  },
  {
   "cell_type": "markdown",
   "metadata": {},
   "source": [
    "Como dito anteriormente, Python é uma linguagem baseado no conceito de _Orientação a Objeto_. \n",
    "Isso significa que a ideia por trás das estrutaras de dados em Python é a de uma hierarquia de informação, onde conceitos gerais são\n",
    "os \"pais\" de conceitos mais específicos.\n",
    "Os conceitos mais específicos herdam características do conceitos gerais, mas trazem novas características próprias.\n",
    "\n",
    "O que torna essa ideia interessante em programação é a possibilidade de programar interfaces genéricas, para conceitos genéricos, mas que são fáceis de se aplicar em conceitos específicos, sem que o usuário precise conhecer detalhes da implementação.\n",
    "\n",
    "Para sair do abstrato, conceitos genéricos ou específicos são encapsulados em classes.\n",
    "Uma classe é um conjunto de atributos e métodos que define um objeto.\n",
    "Por exemplo, podemos criar uma classe Poligono para representar todos os polígnos regulares.\n",
    "Cada polígono tem um certo número de lados e coisas interessantes que podemos perguntar sobre polígonos incluem o perímetro, a área e os ângulos internos."
   ]
  },
  {
   "cell_type": "code",
   "execution_count": 1,
   "metadata": {
    "ExecuteTime": {
     "end_time": "2017-07-19T18:22:43.269309Z",
     "start_time": "2017-07-19T18:22:43.258816Z"
    },
    "collapsed": true
   },
   "outputs": [],
   "source": [
    "class Poligono(object):\n",
    "    lados = None\n",
    "    \n",
    "    def perimetro(self):\n",
    "        raise Exception(\"Não implementado\")\n",
    "\n",
    "    def area(self):\n",
    "        raise Exception(\"Não implentado\")"
   ]
  },
  {
   "cell_type": "markdown",
   "metadata": {},
   "source": [
    "Vamos começar entenden o que significa cada elemento nesse trecho de código.\n",
    "\n",
    "A primeira linha é o começo de um bloco que define uma classe:\n",
    "```python\n",
    "class Poligono(object):\n",
    "```\n",
    "onde o termo `class` é a instrução para definir uma classe, seguida do nome da classe, neste caso `Poligono`, e terminando com uma tupla de _super classes_, ou seja, as classes que seriam os \"pais\" da `Poligono`, neste caso somente a classe `object`.\n",
    "Em última instancia, quase tudo em python é uma classe filha da classe `object`.\n",
    "\n",
    "A próxima linha:\n",
    "```python\n",
    "lados = None\n",
    "```\n",
    "define um _atributo_ da classe, uma característica que define um objeto dessa classe. \n",
    "Dado que \"Poligono\" é a ideia genérica, ele não tem um número específico de lados, mas o atributo serve para representar o que uma interface para lidar com polígonos espera de um objeto que seja se diz um polígono.\n",
    "Isso ficará mais claro quando definirmos classes para algum polígono desenhável.\n",
    "\n",
    "As próximas linhas:\n",
    "```python\n",
    "def perimetro(self):\n",
    "        raise Exception(\"Não implementado\")\n",
    "\n",
    "def area(self):\n",
    "    raise Exception(\"Não implentado\")\n",
    "```\n",
    "definem _métodos_ da classe.\n",
    "Métodos são funções que podem ter aos atributos e métodos da classe.\n",
    "O comando `raise Exception(\"Não implementado\")` gera um erro proposital quando o método é chamado, para representar que a classe `Poligono` é uma ideia geral e, portanto, não tem um perímetro ou uma área definidos.\n",
    "Novamente, isso uma forma de definir uma interface para polígonos, dizendo ao usuário o que esperar de um polígono qualquer.\n",
    "\n",
    "Para dar uma ideia do que eu quero dizer por interface, digamos que queremos imprimir na tela o número de lados, a área e o perímetro de um dicionário de polígonos.\n",
    "Podemos, para isso usar a seguinte função:"
   ]
  },
  {
   "cell_type": "code",
   "execution_count": 2,
   "metadata": {
    "ExecuteTime": {
     "end_time": "2017-07-19T18:22:54.566204Z",
     "start_time": "2017-07-19T18:22:54.553857Z"
    },
    "collapsed": true
   },
   "outputs": [],
   "source": [
    "def area_perimetro_poligonos(dict_poligonos):\n",
    "    for nome_poligono, objeto_poligono in dict_poligonos.items():\n",
    "        lados, area, perimetro = objeto_poligono.lados, objeto_poligono.area(), objeto_poligono.perimetro()\n",
    "        print(f\"\"\"\n",
    "        {nome_poligono}:\n",
    "          lados: {lados}\n",
    "          área: {area}\n",
    "          perímetro: {perimetro}\n",
    "        \"\"\", end='\\n\\n')"
   ]
  },
  {
   "cell_type": "markdown",
   "metadata": {},
   "source": [
    "Note que a função acima define o que cada polígono precisa fazer: saber o número de lados, calcular a própria área e o próprio perímetro.\n",
    "\n",
    "Vamos fingir que não conhecemos a função acima e que queremos usá-la para imprimir as características do polígono que nós queremos, digamos um retângulo.\n",
    "Então, vamos definir a classe para um retângulo, que sabemos ser um polígono:"
   ]
  },
  {
   "cell_type": "code",
   "execution_count": 3,
   "metadata": {
    "ExecuteTime": {
     "end_time": "2017-07-19T18:23:18.989742Z",
     "start_time": "2017-07-19T18:23:18.984951Z"
    },
    "collapsed": true
   },
   "outputs": [],
   "source": [
    "class Retangulo(Poligono):\n",
    "    pass"
   ]
  },
  {
   "cell_type": "code",
   "execution_count": 4,
   "metadata": {
    "collapsed": true
   },
   "outputs": [],
   "source": [
    "r = Retangulo()"
   ]
  },
  {
   "cell_type": "code",
   "execution_count": 5,
   "metadata": {},
   "outputs": [
    {
     "data": {
      "text/plain": [
       "<bound method Poligono.perimetro of <__main__.Retangulo object at 0x00000000051E9BA8>>"
      ]
     },
     "execution_count": 5,
     "metadata": {},
     "output_type": "execute_result"
    }
   ],
   "source": [
    "r.perimetro"
   ]
  },
  {
   "cell_type": "markdown",
   "metadata": {},
   "source": [
    "Vamos passar um objeto da classe `Retangulo` para a nossa função e ver como poderíamos adivinhar a interface:"
   ]
  },
  {
   "cell_type": "code",
   "execution_count": 6,
   "metadata": {
    "ExecuteTime": {
     "end_time": "2017-07-19T18:23:19.402084Z",
     "start_time": "2017-07-19T18:23:19.373615Z"
    }
   },
   "outputs": [
    {
     "ename": "Exception",
     "evalue": "Não implentado",
     "output_type": "error",
     "traceback": [
      "\u001b[1;31m---------------------------------------------------------------------------\u001b[0m",
      "\u001b[1;31mException\u001b[0m                                 Traceback (most recent call last)",
      "\u001b[1;32m<ipython-input-6-1c0cad77399b>\u001b[0m in \u001b[0;36m<module>\u001b[1;34m()\u001b[0m\n\u001b[0;32m      1\u001b[0m \u001b[0mr\u001b[0m \u001b[1;33m=\u001b[0m \u001b[0mRetangulo\u001b[0m\u001b[1;33m(\u001b[0m\u001b[1;33m)\u001b[0m\u001b[1;33m\u001b[0m\u001b[0m\n\u001b[1;32m----> 2\u001b[1;33m \u001b[0marea_perimetro_poligonos\u001b[0m\u001b[1;33m(\u001b[0m\u001b[1;33m{\u001b[0m\u001b[1;34m'retangulo'\u001b[0m\u001b[1;33m:\u001b[0m\u001b[0mr\u001b[0m\u001b[1;33m}\u001b[0m\u001b[1;33m)\u001b[0m\u001b[1;33m\u001b[0m\u001b[0m\n\u001b[0m",
      "\u001b[1;32m<ipython-input-2-c94cb97a03d0>\u001b[0m in \u001b[0;36marea_perimetro_poligonos\u001b[1;34m(dict_poligonos)\u001b[0m\n\u001b[0;32m      1\u001b[0m \u001b[1;32mdef\u001b[0m \u001b[0marea_perimetro_poligonos\u001b[0m\u001b[1;33m(\u001b[0m\u001b[0mdict_poligonos\u001b[0m\u001b[1;33m)\u001b[0m\u001b[1;33m:\u001b[0m\u001b[1;33m\u001b[0m\u001b[0m\n\u001b[0;32m      2\u001b[0m     \u001b[1;32mfor\u001b[0m \u001b[0mnome_poligono\u001b[0m\u001b[1;33m,\u001b[0m \u001b[0mobjeto_poligono\u001b[0m \u001b[1;32min\u001b[0m \u001b[0mdict_poligonos\u001b[0m\u001b[1;33m.\u001b[0m\u001b[0mitems\u001b[0m\u001b[1;33m(\u001b[0m\u001b[1;33m)\u001b[0m\u001b[1;33m:\u001b[0m\u001b[1;33m\u001b[0m\u001b[0m\n\u001b[1;32m----> 3\u001b[1;33m         \u001b[0mlados\u001b[0m\u001b[1;33m,\u001b[0m \u001b[0marea\u001b[0m\u001b[1;33m,\u001b[0m \u001b[0mperimetro\u001b[0m \u001b[1;33m=\u001b[0m \u001b[0mobjeto_poligono\u001b[0m\u001b[1;33m.\u001b[0m\u001b[0mlados\u001b[0m\u001b[1;33m,\u001b[0m \u001b[0mobjeto_poligono\u001b[0m\u001b[1;33m.\u001b[0m\u001b[0marea\u001b[0m\u001b[1;33m(\u001b[0m\u001b[1;33m)\u001b[0m\u001b[1;33m,\u001b[0m \u001b[0mobjeto_poligono\u001b[0m\u001b[1;33m.\u001b[0m\u001b[0mperimetro\u001b[0m\u001b[1;33m(\u001b[0m\u001b[1;33m)\u001b[0m\u001b[1;33m\u001b[0m\u001b[0m\n\u001b[0m\u001b[0;32m      4\u001b[0m         print(f\"\"\"\n\u001b[0;32m      5\u001b[0m         \u001b[1;33m{\u001b[0m\u001b[0mnome_poligono\u001b[0m\u001b[1;33m}\u001b[0m\u001b[1;33m:\u001b[0m\u001b[1;33m\u001b[0m\u001b[0m\n",
      "\u001b[1;32m<ipython-input-1-b141da335510>\u001b[0m in \u001b[0;36marea\u001b[1;34m(self)\u001b[0m\n\u001b[0;32m      6\u001b[0m \u001b[1;33m\u001b[0m\u001b[0m\n\u001b[0;32m      7\u001b[0m     \u001b[1;32mdef\u001b[0m \u001b[0marea\u001b[0m\u001b[1;33m(\u001b[0m\u001b[0mself\u001b[0m\u001b[1;33m)\u001b[0m\u001b[1;33m:\u001b[0m\u001b[1;33m\u001b[0m\u001b[0m\n\u001b[1;32m----> 8\u001b[1;33m         \u001b[1;32mraise\u001b[0m \u001b[0mException\u001b[0m\u001b[1;33m(\u001b[0m\u001b[1;34m\"Não implentado\"\u001b[0m\u001b[1;33m)\u001b[0m\u001b[1;33m\u001b[0m\u001b[0m\n\u001b[0m",
      "\u001b[1;31mException\u001b[0m: Não implentado"
     ]
    }
   ],
   "source": [
    "r = Retangulo()\n",
    "area_perimetro_poligonos({'retangulo':r})"
   ]
  },
  {
   "cell_type": "markdown",
   "metadata": {},
   "source": [
    "Ao tentar usar a função recebemos um erro ao tentar executar o método `area`.\n",
    "Então vamos dar um método `area` para nosso objeto.\n",
    "O jeito mais simples é escolher uma área e criar uma função estúpida que devolve essa área:"
   ]
  },
  {
   "cell_type": "code",
   "execution_count": 7,
   "metadata": {
    "ExecuteTime": {
     "end_time": "2017-07-19T18:23:19.928724Z",
     "start_time": "2017-07-19T18:23:19.914247Z"
    }
   },
   "outputs": [
    {
     "data": {
      "text/plain": [
       "6.0"
      ]
     },
     "execution_count": 7,
     "metadata": {},
     "output_type": "execute_result"
    }
   ],
   "source": [
    "Retangulo.area = lambda self: 6.0\n",
    "r = Retangulo()\n",
    "r.area()"
   ]
  },
  {
   "cell_type": "markdown",
   "metadata": {},
   "source": [
    "E tentando novamente a função, temos:"
   ]
  },
  {
   "cell_type": "code",
   "execution_count": 8,
   "metadata": {
    "ExecuteTime": {
     "end_time": "2017-07-19T18:23:20.646134Z",
     "start_time": "2017-07-19T18:23:20.619711Z"
    }
   },
   "outputs": [
    {
     "ename": "Exception",
     "evalue": "Não implementado",
     "output_type": "error",
     "traceback": [
      "\u001b[1;31m---------------------------------------------------------------------------\u001b[0m",
      "\u001b[1;31mException\u001b[0m                                 Traceback (most recent call last)",
      "\u001b[1;32m<ipython-input-8-cebab2f5de6b>\u001b[0m in \u001b[0;36m<module>\u001b[1;34m()\u001b[0m\n\u001b[1;32m----> 1\u001b[1;33m \u001b[0marea_perimetro_poligonos\u001b[0m\u001b[1;33m(\u001b[0m\u001b[1;33m{\u001b[0m\u001b[1;34m'retangulo'\u001b[0m\u001b[1;33m:\u001b[0m\u001b[0mr\u001b[0m\u001b[1;33m}\u001b[0m\u001b[1;33m)\u001b[0m\u001b[1;33m\u001b[0m\u001b[0m\n\u001b[0m",
      "\u001b[1;32m<ipython-input-2-c94cb97a03d0>\u001b[0m in \u001b[0;36marea_perimetro_poligonos\u001b[1;34m(dict_poligonos)\u001b[0m\n\u001b[0;32m      1\u001b[0m \u001b[1;32mdef\u001b[0m \u001b[0marea_perimetro_poligonos\u001b[0m\u001b[1;33m(\u001b[0m\u001b[0mdict_poligonos\u001b[0m\u001b[1;33m)\u001b[0m\u001b[1;33m:\u001b[0m\u001b[1;33m\u001b[0m\u001b[0m\n\u001b[0;32m      2\u001b[0m     \u001b[1;32mfor\u001b[0m \u001b[0mnome_poligono\u001b[0m\u001b[1;33m,\u001b[0m \u001b[0mobjeto_poligono\u001b[0m \u001b[1;32min\u001b[0m \u001b[0mdict_poligonos\u001b[0m\u001b[1;33m.\u001b[0m\u001b[0mitems\u001b[0m\u001b[1;33m(\u001b[0m\u001b[1;33m)\u001b[0m\u001b[1;33m:\u001b[0m\u001b[1;33m\u001b[0m\u001b[0m\n\u001b[1;32m----> 3\u001b[1;33m         \u001b[0mlados\u001b[0m\u001b[1;33m,\u001b[0m \u001b[0marea\u001b[0m\u001b[1;33m,\u001b[0m \u001b[0mperimetro\u001b[0m \u001b[1;33m=\u001b[0m \u001b[0mobjeto_poligono\u001b[0m\u001b[1;33m.\u001b[0m\u001b[0mlados\u001b[0m\u001b[1;33m,\u001b[0m \u001b[0mobjeto_poligono\u001b[0m\u001b[1;33m.\u001b[0m\u001b[0marea\u001b[0m\u001b[1;33m(\u001b[0m\u001b[1;33m)\u001b[0m\u001b[1;33m,\u001b[0m \u001b[0mobjeto_poligono\u001b[0m\u001b[1;33m.\u001b[0m\u001b[0mperimetro\u001b[0m\u001b[1;33m(\u001b[0m\u001b[1;33m)\u001b[0m\u001b[1;33m\u001b[0m\u001b[0m\n\u001b[0m\u001b[0;32m      4\u001b[0m         print(f\"\"\"\n\u001b[0;32m      5\u001b[0m         \u001b[1;33m{\u001b[0m\u001b[0mnome_poligono\u001b[0m\u001b[1;33m}\u001b[0m\u001b[1;33m:\u001b[0m\u001b[1;33m\u001b[0m\u001b[0m\n",
      "\u001b[1;32m<ipython-input-1-b141da335510>\u001b[0m in \u001b[0;36mperimetro\u001b[1;34m(self)\u001b[0m\n\u001b[0;32m      3\u001b[0m \u001b[1;33m\u001b[0m\u001b[0m\n\u001b[0;32m      4\u001b[0m     \u001b[1;32mdef\u001b[0m \u001b[0mperimetro\u001b[0m\u001b[1;33m(\u001b[0m\u001b[0mself\u001b[0m\u001b[1;33m)\u001b[0m\u001b[1;33m:\u001b[0m\u001b[1;33m\u001b[0m\u001b[0m\n\u001b[1;32m----> 5\u001b[1;33m         \u001b[1;32mraise\u001b[0m \u001b[0mException\u001b[0m\u001b[1;33m(\u001b[0m\u001b[1;34m\"Não implementado\"\u001b[0m\u001b[1;33m)\u001b[0m\u001b[1;33m\u001b[0m\u001b[0m\n\u001b[0m\u001b[0;32m      6\u001b[0m \u001b[1;33m\u001b[0m\u001b[0m\n\u001b[0;32m      7\u001b[0m     \u001b[1;32mdef\u001b[0m \u001b[0marea\u001b[0m\u001b[1;33m(\u001b[0m\u001b[0mself\u001b[0m\u001b[1;33m)\u001b[0m\u001b[1;33m:\u001b[0m\u001b[1;33m\u001b[0m\u001b[0m\n",
      "\u001b[1;31mException\u001b[0m: Não implementado"
     ]
    }
   ],
   "source": [
    "area_perimetro_poligonos({'retangulo':r})"
   ]
  },
  {
   "cell_type": "markdown",
   "metadata": {},
   "source": [
    "Dessa vez notamos que perímetro não foi implementado, então vamos repensar a classe para podermos resolver tudo de forma consistente."
   ]
  },
  {
   "cell_type": "code",
   "execution_count": 9,
   "metadata": {
    "collapsed": true
   },
   "outputs": [],
   "source": [
    "Retangulo.area = lambda self: self.lado*self.altura\n",
    "Retangulo.perimetro = lambda self: 2*self.lado + 2*self.altura\n",
    "r = Retangulo()\n",
    "r.lado = 2\n",
    "r.altura = 3"
   ]
  },
  {
   "cell_type": "code",
   "execution_count": 10,
   "metadata": {},
   "outputs": [
    {
     "data": {
      "text/plain": [
       "(6, 10)"
      ]
     },
     "execution_count": 10,
     "metadata": {},
     "output_type": "execute_result"
    }
   ],
   "source": [
    "r.area(), r.perimetro()"
   ]
  },
  {
   "cell_type": "code",
   "execution_count": 11,
   "metadata": {
    "ExecuteTime": {
     "end_time": "2017-07-19T18:24:19.287714Z",
     "start_time": "2017-07-19T18:24:19.272641Z"
    }
   },
   "outputs": [
    {
     "name": "stdout",
     "output_type": "stream",
     "text": [
      "\n",
      "        retângulo:\n",
      "          lados: None\n",
      "          área: 6\n",
      "          perímetro: 10\n",
      "        \n",
      "\n"
     ]
    }
   ],
   "source": [
    "area_perimetro_poligonos({'retângulo':r})"
   ]
  },
  {
   "cell_type": "markdown",
   "metadata": {},
   "source": [
    "Note que o número de lados veio com o valor `None`. Vamos corrigir isso:"
   ]
  },
  {
   "cell_type": "code",
   "execution_count": 12,
   "metadata": {
    "ExecuteTime": {
     "end_time": "2017-07-19T18:24:24.642033Z",
     "start_time": "2017-07-19T18:24:24.629985Z"
    }
   },
   "outputs": [
    {
     "name": "stdout",
     "output_type": "stream",
     "text": [
      "\n",
      "        retângulo:\n",
      "          lados: 4\n",
      "          área: 6\n",
      "          perímetro: 10\n",
      "        \n",
      "\n"
     ]
    }
   ],
   "source": [
    "Retangulo.lados = 4\n",
    "r = Retangulo()\n",
    "r.lado = 2\n",
    "r.altura = 3\n",
    "area_perimetro_poligonos({'retângulo':r})"
   ]
  },
  {
   "cell_type": "markdown",
   "metadata": {},
   "source": [
    "Pronto! agora nossa classe satisfaz a interface definida pela função.\n",
    "\n",
    "Claro que existem formas mais simples de fazer isso, e tipicamente a documentação da interface explica o que precisa ser implementado.\n",
    "Digamos que soubessemos de antemão que precisamos definir, então poderíamos fazer:"
   ]
  },
  {
   "cell_type": "code",
   "execution_count": 13,
   "metadata": {
    "collapsed": true
   },
   "outputs": [],
   "source": [
    "area_perimetro_poligonos?"
   ]
  },
  {
   "cell_type": "code",
   "execution_count": 18,
   "metadata": {
    "ExecuteTime": {
     "end_time": "2017-07-19T18:26:09.755621Z",
     "start_time": "2017-07-19T18:26:09.728650Z"
    }
   },
   "outputs": [
    {
     "name": "stdout",
     "output_type": "stream",
     "text": [
      "\n",
      "        retângulo:\n",
      "          lados: 4\n",
      "          área: 6\n",
      "          perímetro: 10\n",
      "        \n",
      "\n"
     ]
    }
   ],
   "source": [
    "class Retangulo(Poligono):\n",
    "    lados = 4\n",
    "    \n",
    "    def __init__(self, lado, altura):\n",
    "        self.lado = lado\n",
    "        self.altura = altura\n",
    "    \n",
    "    def area(self):\n",
    "        return self.lado * self.altura\n",
    "    \n",
    "    def perimetro(self):\n",
    "        return 2*self.lado + 2*self.altura\n",
    "    \n",
    "r = Retangulo(2, 3)\n",
    "r.lado = 2\n",
    "r.altura = 3\n",
    "area_perimetro_poligonos({'retângulo':r})"
   ]
  },
  {
   "cell_type": "code",
   "execution_count": 15,
   "metadata": {},
   "outputs": [
    {
     "name": "stdout",
     "output_type": "stream",
     "text": [
      "\n",
      "        r1:\n",
      "          lados: 4\n",
      "          área: 6\n",
      "          perímetro: 10\n",
      "        \n",
      "\n",
      "\n",
      "        r2:\n",
      "          lados: 4\n",
      "          área: 42\n",
      "          perímetro: 26\n",
      "        \n",
      "\n"
     ]
    }
   ],
   "source": [
    "r1 = Retangulo(2,3)\n",
    "r2 = Retangulo(6,7)\n",
    "area_perimetro_poligonos({'r1':r1, 'r2':r2})"
   ]
  },
  {
   "cell_type": "markdown",
   "metadata": {},
   "source": [
    "A forma acima tem o conveniente de nos permitir definir o método de inicialiação de um objeto, o método `__init__`.\n",
    "Como cada retângulo precisa de um valor para lado e um para altura podemos pedir essa informação no momento de criação de um objeto.\n",
    "Note que o primeiro argumento, `self`, de cada função se refere ao próprio objeto.\n",
    "A função `__init__` cria os atributos definidores do objeto e os metodos `area` e `perimetro` têm acesso a tais atributos.\n",
    "\n",
    "Digamos que agora queremos um caso particular de retângulo, um quadrado. \n",
    "Usando a mesma estratégia acima podemos escrever:"
   ]
  },
  {
   "cell_type": "code",
   "execution_count": null,
   "metadata": {
    "ExecuteTime": {
     "end_time": "2017-07-19T18:32:21.139060Z",
     "start_time": "2017-07-19T18:32:21.118652Z"
    }
   },
   "outputs": [],
   "source": [
    "class Quadrado(Retangulo):\n",
    "    def __init__(self, lado):\n",
    "        super().__init__(lado, lado)\n",
    "        \n",
    "q = Quadrado(2)\n",
    "r = Retangulo(2, 3)\n",
    "area_perimetro_poligonos({'retângulo':r, 'quadrado':q})"
   ]
  },
  {
   "cell_type": "markdown",
   "metadata": {},
   "source": [
    "Note que criamos a hieraquia:  Poligono > Retângulo > Quadrado\n",
    "Note também que a classe `Quadrado` herdou métodos funcionais da classe `Retângulo` e o valor do número de lados, tudo o que precisamos fazer foi dar um novo método de inicialização que passasse o mesmo valor pra lado e altura para a inicialização de um retângulo.\n",
    "É exatamente isso que a função `super` está fazendo.\n",
    "Quando um objeto chama a função `super`, está pedindo alguma informação existente em uma das classes \"pais\"."
   ]
  },
  {
   "cell_type": "markdown",
   "metadata": {},
   "source": [
    "Por fim, há muitos outros aspectos importantes para poder usar plenamente o conceito de classes em Python, mas o fundamental é essa estrura de informação que as classes implementam em relação com as interfaces disponíveis."
   ]
  }
 ],
 "metadata": {
  "kernelspec": {
   "display_name": "Python 3",
   "language": "python",
   "name": "python3"
  },
  "language_info": {
   "codemirror_mode": {
    "name": "ipython",
    "version": 3
   },
   "file_extension": ".py",
   "mimetype": "text/x-python",
   "name": "python",
   "nbconvert_exporter": "python",
   "pygments_lexer": "ipython3",
   "version": "3.6.1"
  },
  "toc": {
   "colors": {
    "hover_highlight": "#DAA520",
    "running_highlight": "#FF0000",
    "selected_highlight": "#FFD700"
   },
   "moveMenuLeft": true,
   "nav_menu": {
    "height": "30px",
    "width": "252px"
   },
   "navigate_menu": true,
   "number_sections": true,
   "sideBar": true,
   "threshold": 4,
   "toc_cell": false,
   "toc_section_display": "block",
   "toc_window_display": false
  }
 },
 "nbformat": 4,
 "nbformat_minor": 2
}
