{
 "cells": [
  {
   "cell_type": "markdown",
   "metadata": {
    "run_control": {
     "frozen": false,
     "read_only": false
    }
   },
   "source": [
    "# Exercício 1"
   ]
  },
  {
   "cell_type": "markdown",
   "metadata": {},
   "source": [
    "Uma boa parte do trabalho das disciplinas de Física Experimental é o de calcular ajustes de reta para um dado conjunto de dados e uma teoria.\n",
    "Considere um conjunto de dados $\\{(x_1,y_1),(x_2,y_2),...,(x_n,y_n)\\}$ para o qual a teoria diz que a relação entre $x$ e $y$ é dada por:\n",
    "\n",
    "$$\n",
    "y = a + bx\n",
    "$$\n",
    "\n",
    "Sabendo que as medidas estão sujeitas a várias formas de imprecisão e que a teoria não conta com todas tais contribuições, consideremos o modelo pára os dados\n",
    "\n",
    "$$\n",
    "y_i = a + bx_i + \\xi_i\n",
    "$$\n",
    "\n",
    "onde $\\xi_i$ são valores de ruído que assumimos ser Gausiano.\n",
    "\n",
    "Os valores de $a$ e $b$ que melhor descrevem essa teoria devem ser aqueles que maximizam a verossimilhança de obsevar um certo valor de ruído, ou seja, minimizam $\\sum_i\\xi_i^2 = \\sum_i(y_i - a - bx_i)^2$.\n",
    "\n",
    "A solução desse problema é dada por:\n",
    "$$\n",
    "\\hat{a} = \\bar{y} - \\hat{b}\\bar{x}\\\\\n",
    "\\hat{b} = \\frac{\\sum_i(x_i-\\bar{x})(y_i-\\bar{y})}{\\sum_i(x_i-\\bar{x})^2}\n",
    "$$\n",
    "\n",
    "onde\n",
    "$$\n",
    "\\bar{x} = \\frac{1}{n}\\sum_i x_i\\\\\n",
    "\\bar{y} = \\frac{1}{n}\\sum_i y_i\n",
    "$$\n",
    "são as médias amostrais de $x$ e $y$\n",
    "\n",
    "Com seu conhecimento de Python, implemente funções para calcular a os coeficientes de ajuste da reta e aplique-os para o seguinte conjunto de dados:"
   ]
  },
  {
   "cell_type": "code",
   "execution_count": 1,
   "metadata": {
    "ExecuteTime": {
     "end_time": "2017-07-18T18:57:39.335024Z",
     "start_time": "2017-07-18T18:57:39.324854Z"
    },
    "collapsed": true
   },
   "outputs": [],
   "source": [
    "from numpy.random import randn\n",
    "a_real, b_real = 1.75, 3.5\n",
    "amostra = {x: y for (x, y) in zip(range(-10,11), [a_real + b_real*x_i + randn() for x_i in range(-10,11)])}"
   ]
  }
 ],
 "metadata": {
  "kernelspec": {
   "display_name": "Python 3",
   "language": "python",
   "name": "python3"
  },
  "language_info": {
   "codemirror_mode": {
    "name": "ipython",
    "version": 3
   },
   "file_extension": ".py",
   "mimetype": "text/x-python",
   "name": "python",
   "nbconvert_exporter": "python",
   "pygments_lexer": "ipython3",
   "version": "3.6.1"
  },
  "toc": {
   "colors": {
    "hover_highlight": "#DAA520",
    "running_highlight": "#FF0000",
    "selected_highlight": "#FFD700"
   },
   "moveMenuLeft": true,
   "nav_menu": {
    "height": "30px",
    "width": "252px"
   },
   "navigate_menu": true,
   "number_sections": true,
   "sideBar": true,
   "threshold": 4,
   "toc_cell": false,
   "toc_section_display": "block",
   "toc_window_display": false
  }
 },
 "nbformat": 4,
 "nbformat_minor": 2
}
