{
 "cells": [
  {
   "cell_type": "markdown",
   "metadata": {
    "run_control": {
     "frozen": false,
     "read_only": false
    }
   },
   "source": [
    "# Exercício 1"
   ]
  },
  {
   "cell_type": "markdown",
   "metadata": {
    "run_control": {
     "frozen": false,
     "read_only": false
    }
   },
   "source": [
    "Uma boa parte do trabalho das disciplinas de Física Experimental é o de calcular ajustes de reta para um dado conjunto de dados e uma teoria.\n",
    "Considere um conjunto de dados $\\{(x_1,y_1),(x_2,y_2),...,(x_n,y_n)\\}$ para o qual a teoria diz que a relação entre $x$ e $y$ é dada por:\n",
    "\n",
    "$$\n",
    "y = a + bx\n",
    "$$\n",
    "\n",
    "Sabendo que as medidas estão sujeitas a várias formas de imprecisão e que a teoria não conta com todas tais contribuições, consideremos o modelo pára os dados\n",
    "\n",
    "$$\n",
    "y_i = a + bx_i + \\xi_i\n",
    "$$\n",
    "\n",
    "onde $\\xi_i$ são valores de ruído que assumimos ser Gausiano.\n",
    "\n",
    "Os valores de $a$ e $b$ que melhor descrevem essa teoria devem ser aqueles que maximizam a verossimilhança de obsevar um certo valor de ruído, ou seja, minimizam $\\sum_i\\xi_i^2 = \\sum_i(y_i - a - bx_i)^2$.\n",
    "\n",
    "A solução desse problema é dada por:\n",
    "$$\n",
    "\\hat{a} = \\bar{y} - \\hat{b}\\bar{x}\\\\\n",
    "\\hat{b} = \\frac{\\sum_i(x_i-\\bar{x})(y_i-\\bar{y})}{\\sum_i(x_i-\\bar{x})^2}\n",
    "$$\n",
    "\n",
    "onde\n",
    "$$\n",
    "\\bar{x} = \\frac{1}{n}\\sum_i x_i\\\\\n",
    "\\bar{y} = \\frac{1}{n}\\sum_i y_i\n",
    "$$\n",
    "são as médias amostrais de $x$ e $y$\n",
    "\n",
    "Com seu conhecimento de Python, implemente funções para calcular a os coeficientes de ajuste da reta e aplique-os para o seguinte conjunto de dados:"
   ]
  },
  {
   "cell_type": "code",
   "execution_count": 57,
   "metadata": {
    "ExecuteTime": {
     "end_time": "2017-07-19T14:22:17.529203Z",
     "start_time": "2017-07-19T14:22:17.518896Z"
    },
    "collapsed": true,
    "run_control": {
     "frozen": false,
     "read_only": false
    }
   },
   "outputs": [],
   "source": [
    "from numpy.random import randn, seed\n",
    "seed(42)\n",
    "a_real, b_real = 1.75, 3.5\n",
    "amostra = {x: y for (x, y) in zip(range(-10,11), [a_real + b_real*x_i + randn() for x_i in range(-10,11)])}"
   ]
  },
  {
   "cell_type": "markdown",
   "metadata": {
    "run_control": {
     "frozen": false,
     "read_only": false
    }
   },
   "source": [
    "No dicionário chamado `amostra`, as chaves são os medidas de $x$ e os valores são as de $y$. \n",
    "\n",
    "A linha \n",
    "\n",
    "```python\n",
    "from numpy.random import randn, seed\n",
    "```\n",
    "\n",
    "está importando uma função de uma biblioteca para gerar números aleatórios com distribuição normal e uma função para definir o estado inicial do gerador de números (pseudo)aleatórios, para que todos tenham os mesmos dados.\n",
    "\n",
    "Note que, como os dados são fictícios, sabemos exatamente os valores dos coeficientes linear e angular definidos nas variáveis `a_real` e `b_real`.\n",
    "\n",
    "Para entender a função `zip`, veja o exemplo a seguir:"
   ]
  },
  {
   "cell_type": "code",
   "execution_count": 51,
   "metadata": {
    "ExecuteTime": {
     "end_time": "2017-07-19T14:20:46.146502Z",
     "start_time": "2017-07-19T14:20:46.133071Z"
    }
   },
   "outputs": [
    {
     "name": "stdout",
     "output_type": "stream",
     "text": [
      "\n",
      "tupla1 = (1, 2, 3, 4, 5)\n",
      "tupla2 = (10, 20, 30, 40, 50)\n",
      "zip12 = [(1, 10), (2, 20), (3, 30), (4, 40), (5, 50)]\n",
      "unzip1 = (1, 2, 3, 4, 5) == tupla1\n",
      "unzip2 = (10, 20, 30, 40, 50) == tupla2\n",
      "\n"
     ]
    }
   ],
   "source": [
    "tupla1 = (1,2,3,4,5)\n",
    "tupla2 = (10,20,30,40,50)\n",
    "zip12 = list(zip(tupla1, tupla2))\n",
    "unzip1, unzip2 = zip(*zip12)\n",
    "print(f\"\"\"\n",
    "tupla1 = {tupla1}\n",
    "tupla2 = {tupla2}\n",
    "zip12 = {zip12}\n",
    "unzip1 = {unzip1} == tupla1\n",
    "unzip2 = {unzip2} == tupla2\n",
    "\"\"\")"
   ]
  },
  {
   "cell_type": "markdown",
   "metadata": {
    "run_control": {
     "frozen": false,
     "read_only": false
    }
   },
   "source": [
    "## Solução do Felippe"
   ]
  },
  {
   "cell_type": "markdown",
   "metadata": {
    "run_control": {
     "frozen": false,
     "read_only": false
    }
   },
   "source": [
    "A forma como vou resolver aqui, embora envolva funções das quais não falei em aula, serve mais para ilustrar como é possível resolver tarefas complexas com, relativamente, poucas linhas de código em python. \n",
    "(Lembrem-se, parte da vantagem de usar o jupyter notebook é a facilidade de descobrir coisas novas na linguagem)\n",
    "\n",
    "Vou colocar a solução aqui e em seguida ilustro algumas coisas"
   ]
  },
  {
   "cell_type": "code",
   "execution_count": 58,
   "metadata": {
    "ExecuteTime": {
     "end_time": "2017-07-19T14:22:20.997779Z",
     "start_time": "2017-07-19T14:22:20.974270Z"
    }
   },
   "outputs": [
    {
     "name": "stdout",
     "output_type": "stream",
     "text": [
      "\n",
      "+---+--------+--------+\n",
      "|   | Real   | Ajuste |\n",
      "+---+--------+--------+\n",
      "| a |   1.75 |   1.66 |\n",
      "| b |    3.5 |   3.44 |\n",
      "+---+--------+--------+\n",
      "\n"
     ]
    }
   ],
   "source": [
    "def coeficientes_da_reta(dados):\n",
    "    x_media, y_media = (sum(a)/len(a) for a in zip(*dados.items()))\n",
    "    b_hat = sum((x_media - x_i)*(y_media - y_i) \n",
    "                for (x_i, y_i) in amostra.items())/sum((x_media - x_i)**2\n",
    "                                                       for x_i in amostra.keys())\n",
    "    a_hat = y_media - b_hat*x_media\n",
    "    return a_hat, b_hat\n",
    "\n",
    "a_chapeu, b_chapeu = coeficientes_da_reta(amostra)\n",
    "print(f\"\"\"\n",
    "+---+--------+--------+\n",
    "|   | Real   | Ajuste |\n",
    "+---+--------+--------+\n",
    "| a | {a_real:6.3} | {a_chapeu:6.3} |\n",
    "| b | {b_real:6.3} | {b_chapeu:6.3} |\n",
    "+---+--------+--------+\n",
    "\"\"\")"
   ]
  },
  {
   "cell_type": "markdown",
   "metadata": {},
   "source": [
    "Para mostrar os dados e a reta, vou usar uma biblioteca para plotar gráficos que veremos logo no curso:"
   ]
  },
  {
   "cell_type": "code",
   "execution_count": 53,
   "metadata": {
    "ExecuteTime": {
     "end_time": "2017-07-19T14:20:51.314418Z",
     "start_time": "2017-07-19T14:20:50.914783Z"
    }
   },
   "outputs": [
    {
     "data": {
      "text/plain": [
       "<matplotlib.legend.Legend at 0x7ff700ef6cc0>"
      ]
     },
     "execution_count": 53,
     "metadata": {},
     "output_type": "execute_result"
    },
    {
     "data": {
      "image/png": "[encoded data removed]",
      "text/plain": [
       "<matplotlib.figure.Figure at 0x7ff7017236d8>"
      ]
     },
     "metadata": {},
     "output_type": "display_data"
    }
   ],
   "source": [
    "%matplotlib inline\n",
    "import matplotlib.pyplot as plt\n",
    "\n",
    "fig, ax = plt.subplots(figsize=(6,6))\n",
    "x, y = zip(*amostra.items())\n",
    "ax.plot(x, y, '.',label='Dados')\n",
    "ax.plot(x, [a_chapeu + b_chapeu*x_i for x_i in x], label='Ajuste')\n",
    "ax.legend(loc=(1.02,0))"
   ]
  },
  {
   "cell_type": "markdown",
   "metadata": {
    "run_control": {
     "frozen": false,
     "read_only": false
    }
   },
   "source": [
    "### Recuperando os valores de $x$ e $y$"
   ]
  },
  {
   "cell_type": "markdown",
   "metadata": {},
   "source": [
    "Sabendo que os valores de $x$ são as chaves e $y$ os valores do dicionário `amostra`, existem alguns modos de definir essas variáveis em uma linha de código:"
   ]
  },
  {
   "cell_type": "code",
   "execution_count": 54,
   "metadata": {
    "ExecuteTime": {
     "end_time": "2017-07-19T14:20:54.365319Z",
     "start_time": "2017-07-19T14:20:54.353314Z"
    },
    "collapsed": true
   },
   "outputs": [],
   "source": [
    "# modo 1: usando zip e o metodo amostra.items\n",
    "x_zip, y_zip = zip(*amostra.items())\n",
    "\n",
    "# modo 2: usando tuple e os metodos amostra.keys e amostra.values\n",
    "x_method, y_method = tuple(amostra.keys()), tuple(amostra.values())\n",
    "\n",
    "# modo 3: usando compreensão de lista\n",
    "x_compr, y_compr = tuple(x for x in amostra), tuple(amostra[x] for x in amostra)"
   ]
  },
  {
   "cell_type": "markdown",
   "metadata": {},
   "source": [
    "Cada uma tem suas vantagens e desvantagens, mas o ponto é que existem muitas formas de se fazer algo facilmente em python."
   ]
  },
  {
   "cell_type": "markdown",
   "metadata": {},
   "source": [
    "### Obtendo as médias amostrais"
   ]
  },
  {
   "cell_type": "markdown",
   "metadata": {},
   "source": [
    "Novamente, existem alguns modos de se fazer isso em uma linha:"
   ]
  },
  {
   "cell_type": "code",
   "execution_count": 55,
   "metadata": {
    "ExecuteTime": {
     "end_time": "2017-07-19T14:20:55.953695Z",
     "start_time": "2017-07-19T14:20:55.942468Z"
    }
   },
   "outputs": [],
   "source": [
    "# modo 1: usando zip, amostra.items, sum, len e compreensão de tuplas\n",
    "x_tup, y_tup = (sum(a)/len(a) for a in zip(*amostra.items()))\n",
    "\n",
    "# modo 2: usando amostra.keys, amostra.values, map e uma função lambda\n",
    "x_map, y_map = map(lambda a: sum(a)/len(a), (amostra.keys(), amostra.values()))"
   ]
  },
  {
   "cell_type": "markdown",
   "metadata": {},
   "source": [
    "## Modo honesto (com as ferramentas que mostrei em aula)"
   ]
  },
  {
   "cell_type": "markdown",
   "metadata": {},
   "source": [
    "Sabendo atribuir variáveis, aritmética e os `for` loops, é possível calcular os coeficientes lembrando como iterar sobre um dicionário:"
   ]
  },
  {
   "cell_type": "code",
   "execution_count": 56,
   "metadata": {
    "ExecuteTime": {
     "end_time": "2017-07-19T14:20:59.320572Z",
     "start_time": "2017-07-19T14:20:59.265885Z"
    }
   },
   "outputs": [
    {
     "name": "stdout",
     "output_type": "stream",
     "text": [
      "\n",
      "+---+--------+--------+\n",
      "|   | Real   | Ajuste |\n",
      "+---+--------+--------+\n",
      "| a |   1.75 |   1.66 |\n",
      "| b |    3.5 |   3.44 |\n",
      "+---+--------+--------+\n",
      "\n"
     ]
    }
   ],
   "source": [
    "x, y = [], []\n",
    "x_media, y_media = 0, 0\n",
    "n = 0\n",
    "for x_i, y_i in amostra.items():\n",
    "    x.append(x_i)    \n",
    "    y.append(y_i)\n",
    "    x_media += x_i\n",
    "    y_media += y_i\n",
    "    n += 1\n",
    "x_media /= n\n",
    "y_media /= n\n",
    "num, den = 0, 0\n",
    "for i in range(n):\n",
    "    num += (x_media - x[i])*(y_media - y[i])\n",
    "    den += (x_media - x[i])**2\n",
    "b_chapeu = num/den\n",
    "a_chapeu = y_media - b_chapeu*x_media\n",
    "\n",
    "print(f\"\"\"\n",
    "+---+--------+--------+\n",
    "|   | Real   | Ajuste |\n",
    "+---+--------+--------+\n",
    "| a | {a_real:6.3} | {a_chapeu:6.3} |\n",
    "| b | {b_real:6.3} | {b_chapeu:6.3} |\n",
    "+---+--------+--------+\n",
    "\"\"\")"
   ]
  },
  {
   "cell_type": "markdown",
   "metadata": {},
   "source": [
    "Note que temos os mesmos resultados, com um pouco mais de linhas de código, mas ainda mais simples do que seria o equivalente em C"
   ]
  }
 ],
 "metadata": {
  "kernelspec": {
   "display_name": "Python 3",
   "language": "python",
   "name": "python3"
  },
  "language_info": {
   "codemirror_mode": {
    "name": "ipython",
    "version": 3
   },
   "file_extension": ".py",
   "mimetype": "text/x-python",
   "name": "python",
   "nbconvert_exporter": "python",
   "pygments_lexer": "ipython3",
   "version": "3.6.1"
  },
  "toc": {
   "colors": {
    "hover_highlight": "#DAA520",
    "running_highlight": "#FF0000",
    "selected_highlight": "#FFD700"
   },
   "moveMenuLeft": true,
   "nav_menu": {
    "height": "48px",
    "width": "252px"
   },
   "navigate_menu": true,
   "number_sections": true,
   "sideBar": true,
   "threshold": 4,
   "toc_cell": false,
   "toc_section_display": "block",
   "toc_window_display": false
  }
 },
 "nbformat": 4,
 "nbformat_minor": 2
}
