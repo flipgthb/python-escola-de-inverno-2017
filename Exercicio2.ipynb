{
 "cells": [
  {
   "cell_type": "markdown",
   "metadata": {},
   "source": [
    "# Exercício 2"
   ]
  },
  {
   "cell_type": "markdown",
   "metadata": {},
   "source": [
    "Vamos criar um joguinho de duelo de \"programas\".\n",
    "Para isso, você deve criar uma classe Personagem que satisfaça a seguinte interface:\n",
    "  - Atributos:\n",
    "    * pontos_de_vida\n",
    "    * ataque\n",
    "    * velocidade\n",
    "    * defesa\n",
    "    * folego\n",
    "  - Métodos:\n",
    "    * atacar - (dano(int)) - custa fôlego\n",
    "    * desviar - (probabildade de escapar(float))\n",
    "    * defender - (taxa de redução do ataque(float)) \n",
    "    * mover - (dupla (x,y) (int,int)) - custa fôlego\n",
    "    \n",
    "Você pode criar quaiquer outros atributos e métodos que quiser, mas esses são mandatórios.\n",
    "As regras são:\n",
    "  - os atributos são números inteiros e devem somar 100\n",
    "  - cada chamada de método fôlego proporcionalmente ao valor do atributo sendo usado (mesmo os extras que você implementar)\n",
    "  - os programas lutaram numa arena quadrada 10 x 10\n",
    "  - cada instrução dentro dos métodos tem um custo fixo de fôlego\n",
    "  - o vencedor do duelo ganha um doce (barato porque o Felippe é só um doutorando falido)\n",
    " \n",
    "Note que você tem a liberdade de fazer seu personagem ter qualquer poder, então use a imaginação. \n",
    "(Provavelmente isso vai ser um jogo bem quebrado :p)"
   ]
  },
  {
   "cell_type": "code",
   "execution_count": 3,
   "metadata": {
    "collapsed": true
   },
   "outputs": [],
   "source": [
    "class PrototipoPersonagem(object):\n",
    "    pontos_de_vida = 20\n",
    "    ataque = 20\n",
    "    defesa = 20\n",
    "    velocidade = 20\n",
    "    folego = 20\n",
    "    \n",
    "    def __init__(self, *args):\n",
    "        pass\n",
    "    \n",
    "    def atacar(self):\n",
    "        pass\n",
    "    \n",
    "    def defeder(self):\n",
    "        pass\n",
    "    \n",
    "    def desviar(self):\n",
    "        pass\n",
    "    \n",
    "    def mover(self):\n",
    "        pass"
   ]
  },
  {
   "cell_type": "code",
   "execution_count": 4,
   "metadata": {
    "collapsed": true
   },
   "outputs": [],
   "source": [
    "class Besta(object):\n",
    "    bar = \"BAR!\"\n",
    "    def foo(isto):\n",
    "        print(isto.bar)"
   ]
  },
  {
   "cell_type": "code",
   "execution_count": 5,
   "metadata": {},
   "outputs": [
    {
     "name": "stdout",
     "output_type": "stream",
     "text": [
      "BAR!\n"
     ]
    }
   ],
   "source": [
    "Besta().foo()"
   ]
  },
  {
   "cell_type": "code",
   "execution_count": 7,
   "metadata": {},
   "outputs": [
    {
     "data": {
      "text/plain": [
       "2"
      ]
     },
     "execution_count": 7,
     "metadata": {},
     "output_type": "execute_result"
    }
   ],
   "source": [
    "#  comentário\n",
    "1 + 1"
   ]
  },
  {
   "cell_type": "code",
   "execution_count": 32,
   "metadata": {},
   "outputs": [
    {
     "data": {
      "text/plain": [
       "0.09247533240611128"
      ]
     },
     "execution_count": 32,
     "metadata": {},
     "output_type": "execute_result"
    }
   ],
   "source": [
    "rand()"
   ]
  },
  {
   "cell_type": "code",
   "execution_count": 6,
   "metadata": {
    "collapsed": true
   },
   "outputs": [],
   "source": [
    "from numpy.random import rand, choice\n",
    "\n",
    "class GiganteCaolho(PrototipoPersonagem):\n",
    "    pontos_de_vida = 20\n",
    "    ataque = 30\n",
    "    defesa = 30\n",
    "    velocidad = 10\n",
    "    folego = 10\n",
    "    \n",
    "    print(ataque)\n",
    "    \n",
    "    def atacar(self, posicao):\n",
    "        p = rand()\n",
    "        dano = choice([0, ataque], p=[p, 1-p])\n",
    "        empurrao = choice([0, 2], p=[p, 1-p])\n",
    "        return (dano, empurrao)\n",
    "        \n",
    "    def desviar(self, ataque):\n",
    "        if self.medir_oponente(ataque.opoenente) == \"baixinho\":\n",
    "            self.confiante = True\n",
    "            print(\"PFff\")\n",
    "            return 1.\n",
    "        else:\n",
    "            return 0\n",
    "        \n",
    "    def defender(self, ataque):\n",
    "        if self.acertou_olho(ataque):\n",
    "            self.cego = 3\n",
    "            \n",
    "        if self.confiante:\n",
    "            self.confiante = False\n",
    "            return 0.5\n",
    "        else:\n",
    "            return 1.\n",
    "        \n",
    "    def mover(self, posicao):\n",
    "        \"\"\"\n",
    "        Move o gigante aleatoriamente se ele estive cego\n",
    "        ou aproxima do oponente.\n",
    "        Input: posicao\n",
    "        Output: tupla com movimentos\n",
    "    \n",
    "        \"\"\"\n",
    "        if self.cego > 0:\n",
    "            cambalea = choice([(1,1),(-1,1),(1,-1),(-1,1)])\n",
    "            self.cego -= 1\n",
    "            return cambalea\n",
    "        return posicao.aproxima()# (3,2)"
   ]
  }
 ],
 "metadata": {
  "kernelspec": {
   "display_name": "Python 3",
   "language": "python",
   "name": "python3"
  },
  "language_info": {
   "codemirror_mode": {
    "name": "ipython",
    "version": 3
   },
   "file_extension": ".py",
   "mimetype": "text/x-python",
   "name": "python",
   "nbconvert_exporter": "python",
   "pygments_lexer": "ipython3",
   "version": "3.6.1"
  },
  "toc": {
   "colors": {
    "hover_highlight": "#DAA520",
    "running_highlight": "#FF0000",
    "selected_highlight": "#FFD700"
   },
   "moveMenuLeft": true,
   "nav_menu": {
    "height": "30px",
    "width": "252px"
   },
   "navigate_menu": true,
   "number_sections": true,
   "sideBar": true,
   "threshold": 4,
   "toc_cell": false,
   "toc_section_display": "block",
   "toc_window_display": false
  }
 },
 "nbformat": 4,
 "nbformat_minor": 2
}
