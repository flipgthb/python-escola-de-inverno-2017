{
 "cells": [
  {
   "cell_type": "markdown",
   "metadata": {},
   "source": [
    "# Exercício 2"
   ]
  },
  {
   "cell_type": "markdown",
   "metadata": {},
   "source": [
    "Vamos criar um joguinho de duelo de \"programas\".\n",
    "Para isso, você deve criar uma classe Personagem que satisfaça a seguinte interface:\n",
    "  - Atributos:\n",
    "    * pontos_de_vida\n",
    "    * ataque\n",
    "    * velocidade\n",
    "    * defesa\n",
    "    * folego\n",
    "  - Métodos:\n",
    "    * atacar\n",
    "    * desviar\n",
    "    * defender\n",
    "    * mover\n",
    "    \n",
    "Você pode criar quaiquer outros atributos e métodos que quiser, mas esses são mandatórios.\n",
    "As regras são:\n",
    "  - os atributos são números inteiros e devem somar 100\n",
    "  - cada chamada de método fôlego proporcionalmente ao valor do atributo sendo usado (mesmo os extras que você implementar)\n",
    "  - os programas lutaram numa arena quadrada 10 x 10\n",
    "  - o vencedor do duelo ganha um doce (barato porque o Felippe é só um doutorando falido)\n",
    " \n",
    "Note que você tem a liberdade de fazer seu personagem ter qualquer poder, então use a imaginação. \n",
    "(Provavelmente isso vai ser um jogo bem quebrado :p)"
   ]
  }
 ],
 "metadata": {
  "kernelspec": {
   "display_name": "Python 3",
   "language": "python",
   "name": "python3"
  },
  "language_info": {
   "codemirror_mode": {
    "name": "ipython",
    "version": 3
   },
   "file_extension": ".py",
   "mimetype": "text/x-python",
   "name": "python",
   "nbconvert_exporter": "python",
   "pygments_lexer": "ipython3",
   "version": "3.6.1"
  },
  "toc": {
   "colors": {
    "hover_highlight": "#DAA520",
    "running_highlight": "#FF0000",
    "selected_highlight": "#FFD700"
   },
   "moveMenuLeft": true,
   "nav_menu": {
    "height": "30px",
    "width": "252px"
   },
   "navigate_menu": true,
   "number_sections": true,
   "sideBar": true,
   "threshold": 4,
   "toc_cell": false,
   "toc_section_display": "block",
   "toc_window_display": false
  }
 },
 "nbformat": 4,
 "nbformat_minor": 2
}
