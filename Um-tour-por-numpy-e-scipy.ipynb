{
 "cells": [
  {
   "cell_type": "markdown",
   "metadata": {
    "run_control": {
     "frozen": false,
     "read_only": false
    }
   },
   "source": [
    "# O quê é numpy?"
   ]
  },
  {
   "cell_type": "markdown",
   "metadata": {},
   "source": [
    "Numpy é um módulo, ou biblioteca, para extender Python, conferindo um tipo _array_ eficiente e operações para esse tipo array.\n",
    "A vantagem, e o motivo desse módulo ser tão importante além da eficiência, é a praticidade de realizar muitas operções numéricas com muito pouco código.\n",
    "O interface acessível ao usário é quase tão simples quanto à do Matlab, mas é código aberto, além de possibilitar o uso de todo o resto da linguagem python, que é muito mais poderosa que Matlab. \n",
    "Em conjunto com o módulo _matplotlib_, que veremos amanhã, numpy (e scipy de modo geral) são as resposáveis por python ter conquistado espaço no mundo acadêmico.\n",
    "\n",
    "Vejamos como usar alguns elementos de numpy."
   ]
  },
  {
   "cell_type": "code",
   "execution_count": 37,
   "metadata": {
    "ExecuteTime": {
     "end_time": "2017-07-20T15:08:17.327060Z",
     "start_time": "2017-07-20T15:08:17.315010Z"
    }
   },
   "outputs": [],
   "source": [
    "import numpy as np\n",
    "\n",
    "a = np.array([1,2,3,4])\n",
    "b = np.array([10,20,30,40])\n",
    "c = np.array([5,6,7])\n",
    "d = np.array([[1,-1],[-1,1]])"
   ]
  },
  {
   "cell_type": "markdown",
   "metadata": {},
   "source": [
    "Sobre o código acima:\n",
    "\n",
    "```python\n",
    "import numpy as np\n",
    "```\n",
    "está pedindo que o módulo `numpy` seja carregado e que receba o nome `np`.\n",
    "\n",
    "```python\n",
    "a = np.array([1,2,3,4])\n",
    "b = np.array([10,20,30,40])\n",
    "c = np.array([5,6,7])\n",
    "d = np.array([[1,-1],[-1,1]])\n",
    "```\n",
    "está definindo duas arrays, passando listas como argumentos para a função `np.array`.\n",
    "\n",
    "Para saber qual a dimensão de uma array, use o atributo `shape`:"
   ]
  },
  {
   "cell_type": "code",
   "execution_count": 38,
   "metadata": {
    "ExecuteTime": {
     "end_time": "2017-07-20T15:08:19.276082Z",
     "start_time": "2017-07-20T15:08:19.268157Z"
    }
   },
   "outputs": [
    {
     "data": {
      "text/plain": [
       "array([1, 2, 3, 4])"
      ]
     },
     "execution_count": 38,
     "metadata": {},
     "output_type": "execute_result"
    }
   ],
   "source": [
    "a"
   ]
  },
  {
   "cell_type": "code",
   "execution_count": 39,
   "metadata": {
    "ExecuteTime": {
     "end_time": "2017-07-20T15:08:19.435824Z",
     "start_time": "2017-07-20T15:08:19.426386Z"
    }
   },
   "outputs": [
    {
     "data": {
      "text/plain": [
       "(4,)"
      ]
     },
     "execution_count": 39,
     "metadata": {},
     "output_type": "execute_result"
    }
   ],
   "source": [
    "a.shape"
   ]
  },
  {
   "cell_type": "code",
   "execution_count": 40,
   "metadata": {
    "ExecuteTime": {
     "end_time": "2017-07-20T15:08:19.612385Z",
     "start_time": "2017-07-20T15:08:19.604199Z"
    }
   },
   "outputs": [
    {
     "data": {
      "text/plain": [
       "array([10, 20, 30, 40])"
      ]
     },
     "execution_count": 40,
     "metadata": {},
     "output_type": "execute_result"
    }
   ],
   "source": [
    "b"
   ]
  },
  {
   "cell_type": "code",
   "execution_count": 41,
   "metadata": {
    "ExecuteTime": {
     "end_time": "2017-07-20T15:08:19.760308Z",
     "start_time": "2017-07-20T15:08:19.755030Z"
    }
   },
   "outputs": [
    {
     "data": {
      "text/plain": [
       "(4,)"
      ]
     },
     "execution_count": 41,
     "metadata": {},
     "output_type": "execute_result"
    }
   ],
   "source": [
    "b.shape"
   ]
  },
  {
   "cell_type": "code",
   "execution_count": 42,
   "metadata": {
    "ExecuteTime": {
     "end_time": "2017-07-20T15:08:20.114687Z",
     "start_time": "2017-07-20T15:08:20.110819Z"
    }
   },
   "outputs": [
    {
     "data": {
      "text/plain": [
       "array([[ 1, -1],\n",
       "       [-1,  1]])"
      ]
     },
     "execution_count": 42,
     "metadata": {},
     "output_type": "execute_result"
    }
   ],
   "source": [
    "d"
   ]
  },
  {
   "cell_type": "code",
   "execution_count": 43,
   "metadata": {
    "ExecuteTime": {
     "end_time": "2017-07-20T15:08:21.607587Z",
     "start_time": "2017-07-20T15:08:21.601169Z"
    }
   },
   "outputs": [
    {
     "data": {
      "text/plain": [
       "(2, 2)"
      ]
     },
     "execution_count": 43,
     "metadata": {},
     "output_type": "execute_result"
    }
   ],
   "source": [
    "d.shape"
   ]
  },
  {
   "cell_type": "markdown",
   "metadata": {},
   "source": [
    "Note que `d` é uma array bidimensional e que o tipo array possibilita a criação de array de alta dimensão:"
   ]
  },
  {
   "cell_type": "code",
   "execution_count": 44,
   "metadata": {
    "ExecuteTime": {
     "end_time": "2017-07-20T15:08:21.920940Z",
     "start_time": "2017-07-20T15:08:21.905965Z"
    }
   },
   "outputs": [
    {
     "data": {
      "text/plain": [
       "(3, 3, 3, 3, 3, 3, 3)"
      ]
     },
     "execution_count": 44,
     "metadata": {},
     "output_type": "execute_result"
    }
   ],
   "source": [
    "foo = np.ones((3,3,3,3,3,3,3))\n",
    "foo.shape"
   ]
  },
  {
   "cell_type": "markdown",
   "metadata": {},
   "source": [
    "Para arrays bidimensionais, a transposição de linhas e colunas é possível usando o atributo `T`:"
   ]
  },
  {
   "cell_type": "code",
   "execution_count": 45,
   "metadata": {
    "ExecuteTime": {
     "end_time": "2017-07-20T15:08:22.221658Z",
     "start_time": "2017-07-20T15:08:22.211447Z"
    }
   },
   "outputs": [
    {
     "name": "stdout",
     "output_type": "stream",
     "text": [
      "[[1 2]\n",
      " [3 4]] <- foo\n",
      "\n",
      "[[1 3]\n",
      " [2 4]] <- foo.T\n"
     ]
    }
   ],
   "source": [
    "foo = np.array([[1,2],[3,4]])\n",
    "print(f'{foo} <- foo\\n\\n{foo.T} <- foo.T')"
   ]
  },
  {
   "cell_type": "markdown",
   "metadata": {},
   "source": [
    "Note que arrays unidimensionais são imunes à transoposição"
   ]
  },
  {
   "cell_type": "code",
   "execution_count": 54,
   "metadata": {
    "ExecuteTime": {
     "end_time": "2017-07-20T15:15:12.002189Z",
     "start_time": "2017-07-20T15:15:11.994652Z"
    }
   },
   "outputs": [
    {
     "name": "stdout",
     "output_type": "stream",
     "text": [
      "[1 2 3 4] <- a\n",
      "\n",
      "[1 2 3 4] <- a.T\n"
     ]
    }
   ],
   "source": [
    "print(f'{a} <- a\\n\\n{a.T} <- a.T')"
   ]
  },
  {
   "cell_type": "markdown",
   "metadata": {},
   "source": [
    "mas arrays bidimensioais do tipo linha ou coluna não"
   ]
  },
  {
   "cell_type": "code",
   "execution_count": 55,
   "metadata": {
    "ExecuteTime": {
     "end_time": "2017-07-20T15:16:24.715282Z",
     "start_time": "2017-07-20T15:16:24.708189Z"
    }
   },
   "outputs": [
    {
     "name": "stdout",
     "output_type": "stream",
     "text": [
      "[[1 2 3 4 5]] <- foo\n",
      "\n",
      "[[1]\n",
      " [2]\n",
      " [3]\n",
      " [4]\n",
      " [5]] <- foo.T\n"
     ]
    }
   ],
   "source": [
    "foo = np.array([[1,2,3,4,5]])\n",
    "print(f'{foo} <- foo\\n\\n{foo.T} <- foo.T')"
   ]
  },
  {
   "cell_type": "markdown",
   "metadata": {},
   "source": [
    "Saber o shape de uma array é importante para fazer aritmética:"
   ]
  },
  {
   "cell_type": "code",
   "execution_count": 48,
   "metadata": {
    "ExecuteTime": {
     "end_time": "2017-07-20T15:08:55.063807Z",
     "start_time": "2017-07-20T15:08:55.056419Z"
    }
   },
   "outputs": [
    {
     "name": "stdout",
     "output_type": "stream",
     "text": [
      "\n",
      "a = [1 2 3 4]\n",
      "b = [10 20 30 40]\n",
      "a + b = [11 22 33 44]\n",
      "\n"
     ]
    },
    {
     "data": {
      "text/plain": [
       "(4,)"
      ]
     },
     "execution_count": 48,
     "metadata": {},
     "output_type": "execute_result"
    }
   ],
   "source": [
    "# soma de duas arrays com mesmo shape\n",
    "# note que a e b têm shape (4,) e a soma a + b também tem shape (4,)\n",
    "# a soma é feita elemento a elemento\n",
    "print(f\"\"\"\n",
    "a = {a}\n",
    "b = {b}\n",
    "a + b = {a + b}\n",
    "\"\"\")\n",
    "(a + b).shape"
   ]
  },
  {
   "cell_type": "code",
   "execution_count": 49,
   "metadata": {
    "ExecuteTime": {
     "end_time": "2017-07-20T15:09:16.043300Z",
     "start_time": "2017-07-20T15:09:16.032126Z"
    }
   },
   "outputs": [
    {
     "name": "stdout",
     "output_type": "stream",
     "text": [
      "\n",
      "a = [1 2 3 4]\n",
      "b = [10 20 30 40]\n",
      "a * b = [ 10  40  90 160]\n",
      "\n"
     ]
    },
    {
     "data": {
      "text/plain": [
       "(4,)"
      ]
     },
     "execution_count": 49,
     "metadata": {},
     "output_type": "execute_result"
    }
   ],
   "source": [
    "# produto de duas array com mesmo shape\n",
    "# note que a e b têm shape (4,) e o produto a * b também tem shape (4,)\n",
    "# o produto é feito elemento a elemento\n",
    "print(f\"\"\"\n",
    "a = {a}\n",
    "b = {b}\n",
    "a * b = {a * b}\n",
    "\"\"\")\n",
    "(a * b).shape"
   ]
  },
  {
   "cell_type": "code",
   "execution_count": 51,
   "metadata": {
    "ExecuteTime": {
     "end_time": "2017-07-20T15:11:37.146627Z",
     "start_time": "2017-07-20T15:11:37.129726Z"
    }
   },
   "outputs": [
    {
     "name": "stdout",
     "output_type": "stream",
     "text": [
      "\n",
      "a = [1 2 3 4]\n",
      "3 + a = [4 5 6 7]\n",
      "5 * a = [ 5 10 15 20]\n",
      "\n"
     ]
    },
    {
     "data": {
      "text/plain": [
       "((4,), (4,))"
      ]
     },
     "execution_count": 51,
     "metadata": {},
     "output_type": "execute_result"
    }
   ],
   "source": [
    "# soma e produto de escalares com arrays\n",
    "# essas operações acontecem em cada elemento da array\n",
    "print(f\"\"\"\n",
    "a = {a}\n",
    "3 + a = {3 + a}\n",
    "5 * a = {5 * a}\n",
    "\"\"\")\n",
    "(3 + b).shape, (5 * a).shape"
   ]
  },
  {
   "cell_type": "code",
   "execution_count": 52,
   "metadata": {
    "ExecuteTime": {
     "end_time": "2017-07-20T15:13:17.852928Z",
     "start_time": "2017-07-20T15:13:17.841224Z"
    }
   },
   "outputs": [
    {
     "name": "stdout",
     "output_type": "stream",
     "text": [
      "\n",
      "a = [1 2 3 4]\n",
      "a / 2 = [ 0.5  1.   1.5  2. ]\n",
      "a ** 2 = [ 1  4  9 16]\n",
      "np.sin(a) = [ 0.84147098  0.90929743  0.14112001 -0.7568025 ]\n",
      "\n"
     ]
    }
   ],
   "source": [
    "# de modo geral, operações entre escalar e array aconteces acontecem e cada elemento da array\n",
    "print(f\"\"\"\n",
    "a = {a}\n",
    "a / 2 = {a /2}\n",
    "a ** 2 = {a ** 2}\n",
    "np.sin(a) = {np.sin(a)}\n",
    "\"\"\")"
   ]
  },
  {
   "cell_type": "markdown",
   "metadata": {},
   "source": [
    "Esses exemplos são casos de _broadcasting_, termo usado para significar que um elemento de dimensão menor é \"repetido\" de forma a coincidir com a dimensão maior para que a operação possa ser feita elemento a elemento.\n",
    "Além dos casos acima, é possível fazer essas operações com arrays uni e bidimensionais com shape a de shapes adequados"
   ]
  },
  {
   "cell_type": "code",
   "execution_count": 69,
   "metadata": {
    "ExecuteTime": {
     "end_time": "2017-07-20T17:53:45.934580Z",
     "start_time": "2017-07-20T17:53:45.923058Z"
    }
   },
   "outputs": [
    {
     "name": "stdout",
     "output_type": "stream",
     "text": [
      "[[2 3 4]\n",
      " [3 4 5]\n",
      " [4 5 6]]\n",
      "\n",
      "[[2 4 6]\n",
      " [2 4 6]\n",
      " [2 4 6]]\n"
     ]
    }
   ],
   "source": [
    "foo = np.array([1,2,3])\n",
    "bar = np.array([[1,1,1],[2,2,2],[3,3,3]])\n",
    "print(foo + bar, foo + bar.T, sep='\\n\\n')"
   ]
  },
  {
   "cell_type": "markdown",
   "metadata": {},
   "source": [
    "É possível fazer o produto interno de duas arrays de mesmo shape"
   ]
  },
  {
   "cell_type": "code",
   "execution_count": 57,
   "metadata": {
    "ExecuteTime": {
     "end_time": "2017-07-20T15:17:37.082667Z",
     "start_time": "2017-07-20T15:17:37.074628Z"
    }
   },
   "outputs": [
    {
     "data": {
      "text/plain": [
       "(300, 300)"
      ]
     },
     "execution_count": 57,
     "metadata": {},
     "output_type": "execute_result"
    }
   ],
   "source": [
    "a.dot(b), a @ b"
   ]
  },
  {
   "cell_type": "markdown",
   "metadata": {},
   "source": [
    "Ou o produto de matrizes entre arrays de shape apropriado:"
   ]
  },
  {
   "cell_type": "code",
   "execution_count": 59,
   "metadata": {
    "ExecuteTime": {
     "end_time": "2017-07-20T15:18:52.059105Z",
     "start_time": "2017-07-20T15:18:52.048551Z"
    }
   },
   "outputs": [
    {
     "data": {
      "text/plain": [
       "(array([-18,  18]), array([-18,  18]))"
      ]
     },
     "execution_count": 59,
     "metadata": {},
     "output_type": "execute_result"
    }
   ],
   "source": [
    "foo = np.array([[1,-1],[-1,1]])\n",
    "bar = np.array([2,20])\n",
    "foo.dot(bar), foo @ bar"
   ]
  },
  {
   "cell_type": "markdown",
   "metadata": {},
   "source": [
    "O tipo arrays tem muitos métodos convenientes para operar sobre os valores como méadia, variância, máximo e mínimo, por exemplo."
   ]
  },
  {
   "cell_type": "code",
   "execution_count": 62,
   "metadata": {
    "ExecuteTime": {
     "end_time": "2017-07-20T17:49:27.272107Z",
     "start_time": "2017-07-20T17:49:27.264187Z"
    }
   },
   "outputs": [
    {
     "data": {
      "text/plain": [
       "2.5"
      ]
     },
     "execution_count": 62,
     "metadata": {},
     "output_type": "execute_result"
    }
   ],
   "source": [
    "# média\n",
    "a.mean()"
   ]
  },
  {
   "cell_type": "code",
   "execution_count": 63,
   "metadata": {
    "ExecuteTime": {
     "end_time": "2017-07-20T17:49:36.407800Z",
     "start_time": "2017-07-20T17:49:36.399862Z"
    }
   },
   "outputs": [
    {
     "data": {
      "text/plain": [
       "1.25"
      ]
     },
     "execution_count": 63,
     "metadata": {},
     "output_type": "execute_result"
    }
   ],
   "source": [
    "# variância\n",
    "a.var()"
   ]
  },
  {
   "cell_type": "code",
   "execution_count": 64,
   "metadata": {
    "ExecuteTime": {
     "end_time": "2017-07-20T17:49:49.993354Z",
     "start_time": "2017-07-20T17:49:49.985157Z"
    }
   },
   "outputs": [
    {
     "data": {
      "text/plain": [
       "(1, 4)"
      ]
     },
     "execution_count": 64,
     "metadata": {},
     "output_type": "execute_result"
    }
   ],
   "source": [
    "# mínimo e máximo\n",
    "a.min(), a.max()"
   ]
  },
  {
   "cell_type": "markdown",
   "metadata": {},
   "source": [
    "Além dos métodos, diversas funções matemáticas capazes de lidar com arrays são acessíveis imediatamente"
   ]
  },
  {
   "cell_type": "code",
   "execution_count": 70,
   "metadata": {
    "ExecuteTime": {
     "end_time": "2017-07-20T17:57:20.322620Z",
     "start_time": "2017-07-20T17:57:20.312846Z"
    }
   },
   "outputs": [
    {
     "data": {
      "text/plain": [
       "(array([ 0.84147098,  0.90929743,  0.14112001, -0.7568025 ]),\n",
       " array([ 0.54030231, -0.41614684, -0.9899925 , -0.65364362]),\n",
       " array([ 1.55740772, -2.18503986, -0.14254654,  1.15782128]))"
      ]
     },
     "execution_count": 70,
     "metadata": {},
     "output_type": "execute_result"
    }
   ],
   "source": [
    "# seno, cosseno, tangente\n",
    "np.sin(a), np.cos(a), np.tan(a)"
   ]
  },
  {
   "cell_type": "code",
   "execution_count": 72,
   "metadata": {
    "ExecuteTime": {
     "end_time": "2017-07-20T17:57:50.499836Z",
     "start_time": "2017-07-20T17:57:50.487147Z"
    }
   },
   "outputs": [
    {
     "name": "stderr",
     "output_type": "stream",
     "text": [
      "/usr/lib/python3.6/site-packages/ipykernel/__main__.py:2: RuntimeWarning: invalid value encountered in arcsin\n",
      "  from ipykernel import kernelapp as app\n",
      "/usr/lib/python3.6/site-packages/ipykernel/__main__.py:2: RuntimeWarning: invalid value encountered in arccos\n",
      "  from ipykernel import kernelapp as app\n"
     ]
    },
    {
     "data": {
      "text/plain": [
       "(array([ 1.57079633,         nan,         nan,         nan]),\n",
       " array([  0.,  nan,  nan,  nan]),\n",
       " array([ 0.78539816,  1.10714872,  1.24904577,  1.32581766]))"
      ]
     },
     "execution_count": 72,
     "metadata": {},
     "output_type": "execute_result"
    }
   ],
   "source": [
    "# funções arco\n",
    "np.arcsin(a), np.arccos(a),  np.arctan(a)"
   ]
  },
  {
   "cell_type": "markdown",
   "metadata": {},
   "source": [
    "e diversas outras."
   ]
  },
  {
   "cell_type": "markdown",
   "metadata": {},
   "source": [
    "Além do tipo array e das operações sobre elementos desse tipo, numpy traz uma coleção de submódulos temáticos muito úteis.\n",
    "Dois muito úteis são o de algebra linear, chamado `numpy.linalg`, e o de números aleatórios, chamado `numpy.random`.\n",
    "Vejamos o nome algumas das funções nesse submódulos:"
   ]
  },
  {
   "cell_type": "code",
   "execution_count": 74,
   "metadata": {
    "ExecuteTime": {
     "end_time": "2017-07-20T18:01:35.729094Z",
     "start_time": "2017-07-20T18:01:35.722269Z"
    },
    "collapsed": true
   },
   "outputs": [],
   "source": [
    "from numpy.linalg import norm, qr, cholesky, det, inv\n",
    "from numpy.random import rand, randn, choice, randint, gamma, normal"
   ]
  },
  {
   "cell_type": "markdown",
   "metadata": {},
   "source": [
    "# Scipy"
   ]
  },
  {
   "cell_type": "markdown",
   "metadata": {},
   "source": [
    "Scipy é um módulo que contém o numpy e outros módulos temáticos, todos orientados para a aplicação em problemas típicamente cietíficos."
   ]
  },
  {
   "cell_type": "code",
   "execution_count": 79,
   "metadata": {
    "ExecuteTime": {
     "end_time": "2017-07-20T18:10:37.851241Z",
     "start_time": "2017-07-20T18:10:37.843995Z"
    }
   },
   "outputs": [],
   "source": [
    "from scipy.optimize import fixed_point, minimize\n",
    "from scipy.special import erf, erfc, beta, gamma, hermite\n",
    "from scipy.integrate import quad, quadrature, ode, odeint"
   ]
  }
 ],
 "metadata": {
  "kernelspec": {
   "display_name": "Python 3",
   "language": "python",
   "name": "python3"
  },
  "language_info": {
   "codemirror_mode": {
    "name": "ipython",
    "version": 3
   },
   "file_extension": ".py",
   "mimetype": "text/x-python",
   "name": "python",
   "nbconvert_exporter": "python",
   "pygments_lexer": "ipython3",
   "version": "3.6.1"
  },
  "toc": {
   "colors": {
    "hover_highlight": "#DAA520",
    "running_highlight": "#FF0000",
    "selected_highlight": "#FFD700"
   },
   "moveMenuLeft": true,
   "nav_menu": {
    "height": "48px",
    "width": "252px"
   },
   "navigate_menu": true,
   "number_sections": true,
   "sideBar": true,
   "threshold": 4,
   "toc_cell": false,
   "toc_section_display": "block",
   "toc_window_display": false
  }
 },
 "nbformat": 4,
 "nbformat_minor": 2
}
